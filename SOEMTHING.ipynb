{
 "cells": [
  {
   "cell_type": "code",
   "execution_count": null,
   "id": "55e96ce1",
   "metadata": {},
   "outputs": [
    {
     "name": "stderr",
     "output_type": "stream",
     "text": [
      "WARNING:root:Login button not found\n",
      "INFO:root:Switched to iframe\n"
     ]
    },
    {
     "name": "stdout",
     "output_type": "stream",
     "text": [
      "https://www.shopify.com/ uses Google OIDC: False, Method: N/A\n"
     ]
    },
    {
     "name": "stderr",
     "output_type": "stream",
     "text": [
      "INFO:root:Switched to iframe\n"
     ]
    },
    {
     "name": "stdout",
     "output_type": "stream",
     "text": [
      "https://www.w3schools.com/ uses Google OIDC: True, Method: Redirect URL\n"
     ]
    },
    {
     "name": "stderr",
     "output_type": "stream",
     "text": [
      "WARNING:root:No iframe found\n"
     ]
    },
    {
     "name": "stdout",
     "output_type": "stream",
     "text": [
      "https://medium.com/ uses Google OIDC: True, Method: Direct Link/Button\n"
     ]
    },
    {
     "name": "stderr",
     "output_type": "stream",
     "text": [
      "INFO:root:Switched to iframe\n"
     ]
    },
    {
     "name": "stdout",
     "output_type": "stream",
     "text": [
      "https://www.researchgate.net/ uses Google OIDC: True, Method: Redirect URL\n"
     ]
    },
    {
     "name": "stderr",
     "output_type": "stream",
     "text": [
      "WARNING:root:Login button not found\n",
      "INFO:root:Switched to iframe\n"
     ]
    },
    {
     "name": "stdout",
     "output_type": "stream",
     "text": [
      "https://vimeo.com/ uses Google OIDC: True, Method: Redirect URL\n"
     ]
    },
    {
     "name": "stderr",
     "output_type": "stream",
     "text": [
      "WARNING:root:Login button not found\n",
      "INFO:root:Switched to iframe\n"
     ]
    },
    {
     "name": "stdout",
     "output_type": "stream",
     "text": [
      "https://pixabay.com/re uses Google OIDC: False, Method: N/A\n"
     ]
    },
    {
     "name": "stderr",
     "output_type": "stream",
     "text": [
      "INFO:root:Switched to iframe\n"
     ]
    },
    {
     "name": "stdout",
     "output_type": "stream",
     "text": [
      "https://www.chess.com/ uses Google OIDC: True, Method: Redirect URL\n"
     ]
    },
    {
     "name": "stderr",
     "output_type": "stream",
     "text": [
      "WARNING:root:Login button not found\n",
      "INFO:root:Switched to iframe\n"
     ]
    },
    {
     "name": "stdout",
     "output_type": "stream",
     "text": [
      "https://indianexpress.com/ uses Google OIDC: False, Method: N/A\n"
     ]
    },
    {
     "name": "stderr",
     "output_type": "stream",
     "text": [
      "WARNING:root:Login button not found\n",
      "INFO:root:Switched to iframe\n"
     ]
    },
    {
     "name": "stdout",
     "output_type": "stream",
     "text": [
      "https://www.fandom.com/ uses Google OIDC: False, Method: N/A\n"
     ]
    },
    {
     "name": "stderr",
     "output_type": "stream",
     "text": [
      "WARNING:root:No iframe found\n"
     ]
    },
    {
     "name": "stdout",
     "output_type": "stream",
     "text": [
      "https://www.aliexpress.com/ uses Google OIDC: True, Method: Redirect URL\n"
     ]
    },
    {
     "name": "stderr",
     "output_type": "stream",
     "text": [
      "WARNING:root:Login button not found\n",
      "WARNING:root:No iframe found\n"
     ]
    },
    {
     "name": "stdout",
     "output_type": "stream",
     "text": [
      "https://www.imdb.com/ uses Google OIDC: False, Method: N/A\n"
     ]
    },
    {
     "name": "stderr",
     "output_type": "stream",
     "text": [
      "WARNING:root:Login button not found\n",
      "INFO:root:Switched to iframe\n"
     ]
    },
    {
     "name": "stdout",
     "output_type": "stream",
     "text": [
      "https://www.doordash.com/ uses Google OIDC: False, Method: N/A\n"
     ]
    },
    {
     "name": "stderr",
     "output_type": "stream",
     "text": [
      "WARNING:root:Login button not found\n",
      "ERROR:root:Error analyzing https://www.studocu.com/en-gb: Message: invalid argument: missing 'ELEMENT'\n",
      "  (Session info: headless chrome=119.0.6045.124)\n",
      "Stacktrace:\n",
      "\tGetHandleVerifier [0x00007FF65ED882B2+55298]\n",
      "\t(No symbol) [0x00007FF65ECF5E02]\n",
      "\t(No symbol) [0x00007FF65EBB05AB]\n",
      "\t(No symbol) [0x00007FF65EC2C079]\n",
      "\t(No symbol) [0x00007FF65EC120AA]\n",
      "\t(No symbol) [0x00007FF65EC2AAA4]\n",
      "\t(No symbol) [0x00007FF65EC11E83]\n",
      "\t(No symbol) [0x00007FF65EBE670A]\n",
      "\t(No symbol) [0x00007FF65EBE7964]\n",
      "\tGetHandleVerifier [0x00007FF65F100AAB+3694587]\n",
      "\tGetHandleVerifier [0x00007FF65F15728E+4048862]\n",
      "\tGetHandleVerifier [0x00007FF65F14F173+4015811]\n",
      "\tGetHandleVerifier [0x00007FF65EE247D6+695590]\n",
      "\t(No symbol) [0x00007FF65ED00CE8]\n",
      "\t(No symbol) [0x00007FF65ECFCF34]\n",
      "\t(No symbol) [0x00007FF65ECFD062]\n",
      "\t(No symbol) [0x00007FF65ECED3A3]\n",
      "\tBaseThreadInitThunk [0x00007FFCF87D257D+29]\n",
      "\tRtlUserThreadStart [0x00007FFCF916AA58+40]\n",
      "\n"
     ]
    },
    {
     "name": "stdout",
     "output_type": "stream",
     "text": [
      "https://www.studocu.com/en-gb uses Google OIDC: False, Method: Error\n"
     ]
    },
    {
     "name": "stderr",
     "output_type": "stream",
     "text": [
      "INFO:root:Switched to iframe\n"
     ]
    },
    {
     "name": "stdout",
     "output_type": "stream",
     "text": [
      "https://shopee.ph/ uses Google OIDC: True, Method: Redirect URL\n"
     ]
    },
    {
     "name": "stderr",
     "output_type": "stream",
     "text": [
      "WARNING:root:Login button not found\n",
      "INFO:root:Switched to iframe\n"
     ]
    },
    {
     "name": "stdout",
     "output_type": "stream",
     "text": [
      "https://www.veed.io/ uses Google OIDC: False, Method: N/A\n"
     ]
    },
    {
     "name": "stderr",
     "output_type": "stream",
     "text": [
      "WARNING:root:Login button not found\n",
      "INFO:root:Switched to iframe\n"
     ]
    },
    {
     "name": "stdout",
     "output_type": "stream",
     "text": [
      "https://www.coursehero.com/ uses Google OIDC: False, Method: N/A\n"
     ]
    },
    {
     "name": "stderr",
     "output_type": "stream",
     "text": [
      "WARNING:root:Login button not found\n",
      "INFO:root:Switched to iframe\n"
     ]
    },
    {
     "name": "stdout",
     "output_type": "stream",
     "text": [
      "https://www.marketwatch.com/ uses Google OIDC: False, Method: N/A\n"
     ]
    },
    {
     "name": "stderr",
     "output_type": "stream",
     "text": [
      "WARNING:root:Login button not found\n",
      "INFO:root:Switched to iframe\n"
     ]
    },
    {
     "name": "stdout",
     "output_type": "stream",
     "text": [
      "https://cloudinary.com/ uses Google OIDC: True, Method: Redirect URL\n"
     ]
    },
    {
     "name": "stderr",
     "output_type": "stream",
     "text": [
      "WARNING:root:Login button not found\n",
      "INFO:root:Switched to iframe\n"
     ]
    },
    {
     "name": "stdout",
     "output_type": "stream",
     "text": [
      "https://www.crazygames.com/ uses Google OIDC: False, Method: N/A\n"
     ]
    },
    {
     "name": "stderr",
     "output_type": "stream",
     "text": [
      "WARNING:root:Login button not found\n",
      "INFO:root:Switched to iframe\n"
     ]
    },
    {
     "name": "stdout",
     "output_type": "stream",
     "text": [
      "https://groww.in/ uses Google OIDC: False, Method: N/A\n"
     ]
    },
    {
     "name": "stderr",
     "output_type": "stream",
     "text": [
      "WARNING:root:Login button not found\n",
      "WARNING:root:No iframe found\n"
     ]
    },
    {
     "name": "stdout",
     "output_type": "stream",
     "text": [
      "https://www.mobile.de/ uses Google OIDC: False, Method: N/A\n"
     ]
    },
    {
     "name": "stderr",
     "output_type": "stream",
     "text": [
      "WARNING:root:Login button not found\n",
      "INFO:root:Switched to iframe\n"
     ]
    },
    {
     "name": "stdout",
     "output_type": "stream",
     "text": [
      "https://www.vitalsource.com/ uses Google OIDC: False, Method: N/A\n"
     ]
    }
   ],
   "source": [
    "import csv\n",
    "import logging\n",
    "from selenium import webdriver\n",
    "from selenium.webdriver.chrome.options import Options\n",
    "from selenium.webdriver.common.by import By\n",
    "from selenium.webdriver.common.action_chains import ActionChains\n",
    "from selenium.webdriver.support.ui import WebDriverWait\n",
    "from selenium.webdriver.support import expected_conditions as EC\n",
    "from selenium.common.exceptions import NoSuchElementException, TimeoutException, ElementClickInterceptedException, NoSuchFrameException\n",
    "from urllib.parse import urlparse\n",
    "import concurrent.futures\n",
    "\n",
    "logging.basicConfig(level=logging.INFO)\n",
    "\n",
    "def validity_check(url):\n",
    "    try:\n",
    "        output = urlparse(url)\n",
    "        return all([output.scheme, output.netloc])\n",
    "    except ValueError:\n",
    "        return False\n",
    "\n",
    "def configure_browser_options(headless=True):\n",
    "    options = Options()\n",
    "    if headless:\n",
    "        options.add_argument(\"--headless\")\n",
    "    options.add_argument(\"--disable-gpu\")\n",
    "    options.add_argument(\"--disable-extensions\")\n",
    "    options.add_argument(\"--no-sandbox\")\n",
    "    options.add_argument(\"--disable-images\")\n",
    "    options.page_load_strategy = 'eager'\n",
    "    return options\n",
    "\n",
    "def handle_cookies(driver):\n",
    "    cookie_buttons = [\n",
    "        \"Accept all & visit the site\", \"Accept\", \"Agree\", \"Close\", \"Ignore\",\n",
    "        \"Agree & Continue\", \"Agree & Close\", \"AGREE & CLOSE\", \"CONSENT\",\n",
    "        \"Consent\", \"ACCEPT\",\"AGREE\",\"Accept all cookies\",\"Accept All Cookies\",\"Allow\",\"ALLOW\",\"OK\",\"Ok\",\"I accept\",\"I Accept\",\"I ACCEPT\",\n",
    "        \"Accept Cookies\",\"ACCEPT COOKIES\",\"ALLOW ALL COOKIES\"\n",
    "    ]\n",
    "    for button_text in cookie_buttons:\n",
    "        try:\n",
    "            accept_button = WebDriverWait(driver, 5).until(\n",
    "                EC.element_to_be_clickable((By.XPATH, f\"//button[contains(translate(text(),'ACCEPT','accept'),'{button_text.lower()}')] | //a[contains(translate(text(),'ACCEPT','accept'),'{button_text.lower()}')]\"))\n",
    "            )\n",
    "            accept_button.click()\n",
    "            break\n",
    "        except (NoSuchElementException, TimeoutException, ElementClickInterceptedException):\n",
    "            pass\n",
    "\n",
    "def find_login_button(driver):\n",
    "    login_section = [\"Login\", \"Log in\", \"Sign in\", \"Sign In\", \"Log In\", \"LOGON\", \"SIGN IN\", \"LOGIN\", \"LOG IN\",\"Login/Register\"]\n",
    "    for login_pat in login_section:\n",
    "        try:\n",
    "            login_button = WebDriverWait(driver, 10).until(\n",
    "                EC.presence_of_element_located((By.PARTIAL_LINK_TEXT, login_pat))\n",
    "            )\n",
    "            actions = ActionChains(driver)\n",
    "            actions.move_to_element(login_button).perform()\n",
    "            try:\n",
    "                login_button.click()\n",
    "            except ElementClickInterceptedException:\n",
    "                driver.execute_script(\"arguments[0].click();\", login_button)\n",
    "            return True\n",
    "        except TimeoutException:\n",
    "            continue\n",
    "    return False\n",
    "\n",
    "def switch_to_iframe(driver):\n",
    "    try:\n",
    "        WebDriverWait(driver, 10).until(EC.frame_to_be_available_and_switch_to_it((By.TAG_NAME, \"iframe\")))\n",
    "        logging.info(\"Switched to iframe\")\n",
    "    except TimeoutException:\n",
    "        logging.warning(\"No iframe found\")\n",
    "\n",
    "def check_google_oidc(driver, website_url):\n",
    "    google_oidc_patterns = [\n",
    "        \"Sign in with Google\", \"Continue with Google\", \"Login with Google\",\n",
    "        \"Sign in using Google\", \"Log In with Google\", \"Login using Google\",\n",
    "        \"LOG IN using Google\", \"LOG IN with Google\", \"LOG IN WITH GOOGLE\",\"Sign In with Google\"\n",
    "    ]\n",
    "\n",
    "    oidc_method = \"N/A\"\n",
    "    redirect_or_element_found = False\n",
    "    text_pattern_found = False\n",
    "\n",
    "    try:\n",
    "        WebDriverWait(driver, 10).until(\n",
    "            lambda x: driver.current_url != website_url or driver.find_element(By.XPATH, \"//a[contains(@href,'google')] | //button[contains(@href,'google')] | //div[contains(@href,'google')]\")\n",
    "        )\n",
    "        redirect_or_element_found = True\n",
    "    except TimeoutException:\n",
    "        pass\n",
    "\n",
    "    if any(pattern in driver.page_source for pattern in google_oidc_patterns):\n",
    "        text_pattern_found = True\n",
    "\n",
    "    if redirect_or_element_found:\n",
    "        if len(driver.window_handles) > 1:\n",
    "            oidc_method = \"Pop-up\"\n",
    "        elif driver.current_url != website_url:\n",
    "            oidc_method = \"Redirect URL\"\n",
    "        else:\n",
    "            oidc_method = \"Direct Link/Button\"\n",
    "    elif text_pattern_found:\n",
    "        oidc_method = \"Text Pattern\"\n",
    "\n",
    "    has_google_oidc = oidc_method != \"N/A\"\n",
    "    return has_google_oidc, oidc_method\n",
    "\n",
    "def check_oidc(website_url, headless=True):\n",
    "    try:\n",
    "        driver = webdriver.Chrome(options=configure_browser_options(headless))\n",
    "\n",
    "        if not validity_check(website_url):\n",
    "            logging.error(f\"Invalid URL: {website_url}\")\n",
    "            return False, \"N/A\"\n",
    "\n",
    "        driver.get(website_url)\n",
    "        handle_cookies(driver)\n",
    "        if not find_login_button(driver):\n",
    "            logging.warning(\"Login button not found\")\n",
    "        switch_to_iframe(driver)\n",
    "\n",
    "        has_google_oidc, method = check_google_oidc(driver, website_url)\n",
    "\n",
    "        #logging.info(f\"Google OIDC check completed for {website_url}: {has_google_oidc}, Method: {method}\")\n",
    "\n",
    "        driver.quit()\n",
    "        return has_google_oidc, method\n",
    "\n",
    "    except Exception as e:\n",
    "        logging.error(f\"Error analyzing {website_url}: {e}\")\n",
    "        return False, \"Error\"\n",
    "\n",
    "def check_oidc_concurrent(website_url):\n",
    "    return (website_url, *check_oidc(website_url))\n",
    "\n",
    "def main(websites):\n",
    "    num_threads = 10  # Adjust based on your requirements and capabilities\n",
    "\n",
    "    with concurrent.futures.ThreadPoolExecutor(max_workers=num_threads) as executor:\n",
    "        future_to_url = {executor.submit(check_oidc_concurrent, url): url for url in websites}\n",
    "        for future in concurrent.futures.as_completed(future_to_url):\n",
    "            url = future_to_url[future]\n",
    "            try:\n",
    "                website, uses_google_oidc, method = future.result()\n",
    "                print(f\"{website} uses Google OIDC: {uses_google_oidc}, Method: {method}\")\n",
    "            except Exception as exc:\n",
    "                print(f\"{url} generated an exception: {exc}\")\n",
    "\n",
    "if __name__ == \"__main__\":\n",
    "    websites = [\n",
    "'https://www.shopify.com/','https://www.w3schools.com/','https://medium.com/','https://www.researchgate.net/',\n",
    "    'https://vimeo.com/','https://pixabay.com/re','https://www.chess.com/','https://indianexpress.com/',\n",
    "    'https://www.fandom.com/','https://www.aliexpress.com/','https://www.imdb.com/','https://www.doordash.com/',\n",
    "    'https://www.studocu.com/en-gb','https://shopee.ph/','https://www.veed.io/','https://www.coursehero.com/',\n",
    "    'https://www.marketwatch.com/','https://cloudinary.com/','https://www.crazygames.com/','https://groww.in/',\n",
    "    'https://www.mobile.de/','https://www.vitalsource.com/','https://www.gitbook.com/','https://disqus.com/',\n",
    "    'https://www.mongodb.com/','https://apkpure.com/','https://brainly.com/','https://www.duplichecker.com/',\n",
    "    'https://www.bhphotovideo.com/','https://www.blizzard.com/en-gb/','https://www.fotor.com/','https://www.abc.net.au/',\n",
    "    'https://www.repubblica.it/','https://www.pdf2go.com/','https://www.drive2.ru/','https://www.cbssports.com/',\n",
    "    'https://www.turnitin.com/','https://www.mirror.co.uk/','https://tvtropes.org/','https://www.skyscanner.net/',\n",
    "    'https://www.hindustantimes.com/','https://www.imdb.com/'\n",
    "    ]\n",
    "    main(websites)    \n",
    "\n",
    "# Read URLs from CSV file\n",
    "#websites = []\n",
    "#with open('websites.csv', 'r') as file:\n",
    "#    reader = csv.reader(file)\n",
    "#    for row in reader:\n",
    "#        websites.extend(row)\n",
    "\n",
    "# Perform checks and save results to CSV\n",
    "#outputs = {}\n",
    "#for website in websites:\n",
    "#    uses_google_oidc, method = check_oidc(website)\n",
    "#    outputs[website] = (uses_google_oidc, method)\n",
    "\n",
    "#with open('output.csv', 'w', newline='') as csvfile:\n",
    "#    writer = csv.writer(csvfile)\n",
    "#    writer.writerow(['Website', 'Google OIDC Present', 'Method'])\n",
    "#    for website, (oidc_present, method) in outputs.items():\n",
    "#        writer.writerow([website, oidc_present, method])\n",
    "        \n",
    "#websites = [\n",
    "#'https://www.shopify.com/','https://www.w3schools.com/','https://medium.com/','https://www.researchgate.net/',\n",
    "#    'https://vimeo.com/','https://pixabay.com/re','https://www.chess.com/','https://indianexpress.com/',\n",
    "#    'https://www.fandom.com/','https://www.aliexpress.com/','https://www.imdb.com/','https://www.doordash.com/',\n",
    "#    'https://www.studocu.com/en-gb','https://shopee.ph/','https://www.veed.io/','https://www.coursehero.com/',\n",
    "#    'https://www.marketwatch.com/','https://cloudinary.com/','https://www.crazygames.com/','https://groww.in/',\n",
    "#    'https://www.mobile.de/','https://www.vitalsource.com/','https://www.gitbook.com/','https://disqus.com/',\n",
    "#    'https://www.mongodb.com/','https://apkpure.com/','https://brainly.com/','https://www.duplichecker.com/',\n",
    "#    'https://www.bhphotovideo.com/','https://www.blizzard.com/en-gb/','https://www.fotor.com/','https://www.abc.net.au/',\n",
    "#    'https://www.repubblica.it/','https://www.pdf2go.com/','https://www.drive2.ru/','https://www.cbssports.com/',\n",
    "#    'https://www.turnitin.com/','https://www.mirror.co.uk/','https://tvtropes.org/','https://www.skyscanner.net/',\n",
    "#    'https://www.hindustantimes.com/','https://www.imdb.com/'\n",
    "]\n",
    "\n",
    "for website in websites:\n",
    "    uses_google_oidc, method = check_oidc(website)\n",
    "    print(f\"{website} uses Google OIDC: {uses_google_oidc}, Method: {method}\")"
   ]
  },
  {
   "cell_type": "code",
   "execution_count": null,
   "id": "41c5e2ba",
   "metadata": {},
   "outputs": [],
   "source": []
  }
 ],
 "metadata": {
  "kernelspec": {
   "display_name": "Python 3 (ipykernel)",
   "language": "python",
   "name": "python3"
  },
  "language_info": {
   "codemirror_mode": {
    "name": "ipython",
    "version": 3
   },
   "file_extension": ".py",
   "mimetype": "text/x-python",
   "name": "python",
   "nbconvert_exporter": "python",
   "pygments_lexer": "ipython3",
   "version": "3.11.5"
  }
 },
 "nbformat": 4,
 "nbformat_minor": 5
}
